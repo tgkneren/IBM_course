{
 "cells": [
  {
   "cell_type": "markdown",
   "id": "945b4bf0",
   "metadata": {},
   "source": [
    "# Data Science Tools and Ecosystem"
   ]
  },
  {
   "cell_type": "markdown",
   "id": "9560f6c1",
   "metadata": {},
   "source": [
    "In thıs notebook,Data Science Tools and ecosystem are summarised."
   ]
  },
  {
   "cell_type": "markdown",
   "id": "a1fac835",
   "metadata": {},
   "source": [
    "Some of the popular languages that data scientists use are:\n",
    "1-python\n",
    "2-R\n",
    "3-sql\n",
    "4-julia"
   ]
  },
  {
   "cell_type": "markdown",
   "id": "2618b91e",
   "metadata": {},
   "source": [
    "Some of the commonly used libraries used by data scientists include:\n",
    "1-pandas\n",
    "2-numpy\n",
    "3-scikit-learn"
   ]
  },
  {
   "cell_type": "markdown",
   "id": "28843d71",
   "metadata": {},
   "source": [
    "#### Data Science Tools\n",
    "\n",
    "Data Science Tools   \n",
    "- Jupyter Notebook    \n",
    "- RStudio             \n",
    "- Visual Studio Code  \n"
   ]
  },
  {
   "cell_type": "markdown",
   "id": "f99d28c1",
   "metadata": {},
   "source": [
    "### Below are a few examples of evaluating arithmetic expressions in Python"
   ]
  },
  {
   "cell_type": "code",
   "execution_count": 1,
   "id": "fc451cdc",
   "metadata": {},
   "outputs": [
    {
     "name": "stdout",
     "output_type": "stream",
     "text": [
      "17\n"
     ]
    }
   ],
   "source": [
    "#This a simple arithmetic expression to mutiply then add integers.\n",
    "\n",
    "x=(3*4)+5\n",
    "print(x)"
   ]
  },
  {
   "cell_type": "markdown",
   "id": "faab2d0a",
   "metadata": {},
   "source": [
    "**Objectives: **\n",
    "- List popular languages for Data Science\n",
    "- Key data science libraries\n",
    "- Overview of data science tools and ecosystems"
   ]
  },
  {
   "cell_type": "code",
   "execution_count": 2,
   "id": "3e6f288b",
   "metadata": {},
   "outputs": [
    {
     "name": "stdout",
     "output_type": "stream",
     "text": [
      "120 min = 2.0 hour\n"
     ]
    }
   ],
   "source": [
    " # this will oncvert 200 min to hours by dividing by 60\n",
    "min=120\n",
    "hour= min/60\n",
    "print(f\"{min} min = {hour} hour\")"
   ]
  },
  {
   "cell_type": "markdown",
   "id": "4cdfb04b",
   "metadata": {},
   "source": [
    "## Author\n",
    "Tuğkan EREN"
   ]
  }
 ],
 "metadata": {
  "kernelspec": {
   "display_name": "Python 3 (ipykernel)",
   "language": "python",
   "name": "python3"
  },
  "language_info": {
   "codemirror_mode": {
    "name": "ipython",
    "version": 3
   },
   "file_extension": ".py",
   "mimetype": "text/x-python",
   "name": "python",
   "nbconvert_exporter": "python",
   "pygments_lexer": "ipython3",
   "version": "3.10.9"
  }
 },
 "nbformat": 4,
 "nbformat_minor": 5
}
