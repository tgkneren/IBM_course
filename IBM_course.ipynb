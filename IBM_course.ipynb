{
 "cells": [
  {
   "cell_type": "markdown",
   "id": "c2feff5c",
   "metadata": {},
   "source": [
    "# Title\n",
    "TEST TITLE "
   ]
  },
  {
   "cell_type": "markdown",
   "id": "093f2bf5",
   "metadata": {},
   "source": [
    "introduction bla bla"
   ]
  },
  {
   "cell_type": "markdown",
   "id": "f1f07e7b",
   "metadata": {},
   "source": [
    "Data Science Languages: \n",
    "    python, r, sql, julia"
   ]
  },
  {
   "cell_type": "markdown",
   "id": "d14d8ea1",
   "metadata": {},
   "source": [
    "#### data science libraries :\n",
    "    tensorflow, pandas, numpy, scikit-learn"
   ]
  },
  {
   "cell_type": "markdown",
   "id": "388425c0",
   "metadata": {},
   "source": [
    "arithmetic expressions \n",
    "like +,-, * ? + for sum the numbers "
   ]
  },
  {
   "cell_type": "code",
   "execution_count": 1,
   "id": "3a4ec0e3",
   "metadata": {},
   "outputs": [],
   "source": [
    "#add&multiply\n",
    "result= (3*3)+(3+3)\n",
    "print result"
   ]
  },
  {
   "cell_type": "code",
   "execution_count": 4,
   "id": "e9c00d11",
   "metadata": {},
   "outputs": [
    {
     "name": "stdout",
     "output_type": "stream",
     "text": [
      "120 min = 2.0 hour\n"
     ]
    }
   ],
   "source": [
    " # min2hour\n",
    "min=120\n",
    "hour= min/60\n",
    "print(f\"{min} min = {hour} hour\")"
   ]
  },
  {
   "cell_type": "markdown",
   "id": "c6f423b0",
   "metadata": {},
   "source": [
    "## Objectives\n",
    "- Improve data analysis skills.\n",
    "- Work on machine learning models.\n",
    "- Learn data visualization techniques"
   ]
  },
  {
   "cell_type": "markdown",
   "id": "77db734f",
   "metadata": {},
   "source": [
    "#### Author\n",
    "Name : tgkneren"
   ]
  },
  {
   "cell_type": "code",
   "execution_count": null,
   "id": "cf358f38",
   "metadata": {},
   "outputs": [],
   "source": []
  }
 ],
 "metadata": {
  "kernelspec": {
   "display_name": "Python 3 (ipykernel)",
   "language": "python",
   "name": "python3"
  },
  "language_info": {
   "codemirror_mode": {
    "name": "ipython",
    "version": 3
   },
   "file_extension": ".py",
   "mimetype": "text/x-python",
   "name": "python",
   "nbconvert_exporter": "python",
   "pygments_lexer": "ipython3",
   "version": "3.10.9"
  }
 },
 "nbformat": 4,
 "nbformat_minor": 5
}
